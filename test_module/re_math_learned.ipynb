{
 "cells": [
  {
   "cell_type": "code",
   "execution_count": 3,
   "metadata": {},
   "outputs": [
    {
     "name": "stdout",
     "output_type": "stream",
     "text": [
      "['<div>', '<p>', '</p>', '</div>']\n"
     ]
    }
   ],
   "source": [
    "import re\n",
    "\n",
    "def extract_html_tags(html):\n",
    "    pattern = r\"<[^>]+>\"\n",
    "    return re.findall(pattern, html)\n",
    "\n",
    "html = \"<div><p>Hello, World!</p></div>\"\n",
    "tags = extract_html_tags(html)\n",
    "print(tags)  # 输出：['<div>', '<p>', '</p>', '</div>']"
   ]
  },
  {
   "cell_type": "markdown",
   "metadata": {},
   "source": []
  },
  {
   "cell_type": "code",
   "execution_count": 4,
   "metadata": {},
   "outputs": [
    {
     "name": "stdout",
     "output_type": "stream",
     "text": [
      "Level: INFO, Message: User Alice logged in.\n",
      "Level: ERROR, Message: Connection failed for user Bob.\n",
      "Level: INFO, Message: User Carol logged in.\n"
     ]
    }
   ],
   "source": [
    "import re\n",
    "\n",
    "log = \"\"\"\n",
    "[INFO] User Alice logged in.\n",
    "[ERROR] Connection failed for user Bob.\n",
    "[INFO] User Carol logged in.\n",
    "\"\"\"\n",
    "\n",
    "# 修正后的正则表达式模式\n",
    "pattern = r\"\\[([A-Z]+)\\] ([^\\n]+)\"\n",
    "matches = re.findall(pattern, log)\n",
    "for match in matches:\n",
    "    level, message = match\n",
    "    print(f\"Level: {level}, Message: {message}\")"
   ]
  },
  {
   "cell_type": "code",
   "execution_count": null,
   "metadata": {},
   "outputs": [],
   "source": [
    "format1 = \"\"\"\n",
    "**Modified version:** \n",
    "```sql\n",
    "SELECT COUNT(*) FROM contacts INNER JOIN aspect_memberships ON contacts.id = aspect_memberships.contact_id WHERE aspect_memberships.aspect_id = 3;\n",
    "```\n",
    "\"\"\"\n",
    "\n",
    "format2 = \"\"\"\n",
    "**Modified version :** \n",
    "SELECT COUNT(*) \n",
    "FROM `contacts` \n",
    "INNER JOIN `aspect_memberships` ON `contacts`.`id` = `aspect_memberships`.`contact_id` \n",
    "WHERE `aspect_memberships`.`aspect_id` = 3;\n",
    "\"\"\"\n",
    "\n",
    "format3 = \"\"\"\n",
    "```sql\n",
    "SELECT COUNT(*) FROM contacts INNER JOIN aspect_memberships ON contacts.id = aspect_memberships.contact_id WHERE aspect_memberships.aspect_id = 3;\n",
    "```\n",
    "\"\"\""
   ]
  },
  {
   "cell_type": "markdown",
   "metadata": {},
   "source": []
  },
  {
   "cell_type": "code",
   "execution_count": 30,
   "metadata": {},
   "outputs": [
    {
     "name": "stdout",
     "output_type": "stream",
     "text": [
      "asdasdasdasdaqsda\n",
      "asdasdasdasd\n",
      "asdasdads\n"
     ]
    }
   ],
   "source": [
    "import re\n",
    "def extract_modified_version(text):\n",
    "    pattern = r\"\\*\\*Modified version:\\*\\*\\s*(.*?)(?=(\\n\\*\\*|$))\"\n",
    "    match = re.search(pattern, text, re.DOTALL)\n",
    "    if match:\n",
    "        matched_text = match.group(1)\n",
    "        return matched_text.strip()\n",
    "    return None\n",
    "\n",
    "# 测试用例\n",
    "text1 = \"\"\"\n",
    "**Modified version:** \n",
    "asdasdasdasdaqsda\n",
    "asdasdasdasd\n",
    "asdasdads\n",
    "\"\"\"\n",
    "\n",
    "# 测试函数\n",
    "print(extract_modified_version(text1))"
   ]
  },
  {
   "cell_type": "code",
   "execution_count": 38,
   "metadata": {},
   "outputs": [
    {
     "name": "stdout",
     "output_type": "stream",
     "text": [
      "format 1 \n",
      "SELECT COUNT(*) FROM contacts INNER JOIN aspect_memberships ON contacts.id = aspect_memberships.contact_id WHERE aspect_memberships.aspect_id = 3;\n",
      "\n",
      "format 2 SELECT COUNT(*) \n",
      "FROM `contacts` \n",
      "INNER JOIN `aspect_memberships` ON `contacts`.`id` = `aspect_memberships`.`contact_id` \n",
      "WHERE `aspect_memberships`.`aspect_id` = 3;\n",
      "format 3 \n",
      "SELECT COUNT(*) FROM contacts INNER JOIN aspect_memberships ON contacts.id = aspect_memberships.contact_id WHERE aspect_memberships.aspect_id = 3;\n",
      "\n",
      "format 4 \n",
      "SELECT COUNT(*) \n",
      "FROM `contacts` \n",
      "INNER JOIN `aspect_memberships` ON `contacts`.`id` = `aspect_memberships`.`contact_id` \n",
      "WHERE `aspect_memberships`.`aspect_id` = 3;\n",
      "\n",
      "format 5 SELECT COUNT(*) FROM `contacts` INNER JOIN `aspect_memberships` ON `contacts`.`id` = `aspect_memberships`.`contact_id` WHERE `aspect_memberships`.`aspect_id` = 3;\n"
     ]
    }
   ],
   "source": [
    "import re\n",
    "\n",
    "def extract_modified_version(prompt):\n",
    "    # 定义匹配SQL语句的正则表达式\n",
    "    sql_pattern = re.compile(\n",
    "        r\"```sql(.*?)```|\"\n",
    "        r\"\\*\\*Modified version:\\*\\*\\s*```sql(.*?)```|\"\n",
    "        r\"\\*\\*Modified version:\\*\\*\\s*(.*?)(?=(\\n\\*\\*|$))\",\n",
    "        re.DOTALL\n",
    "    )\n",
    "    # 在prompt中搜索匹配项\n",
    "    match = sql_pattern.search(prompt)\n",
    "    \n",
    "    if match:\n",
    "        # 返回匹配的SQL语句\n",
    "        return match.group(1) or match.group(2) or match.group(3)\n",
    "    else:\n",
    "        return None\n",
    "\n",
    "format1 = \"\"\"\n",
    "**Modified version:**\n",
    "```sql\n",
    "SELECT COUNT(*) FROM contacts INNER JOIN aspect_memberships ON contacts.id = aspect_memberships.contact_id WHERE aspect_memberships.aspect_id = 3;\n",
    "```\n",
    "\"\"\"\n",
    "\n",
    "format2 = \"\"\"\n",
    "**Modified version:** \n",
    "SELECT COUNT(*) \n",
    "FROM `contacts` \n",
    "INNER JOIN `aspect_memberships` ON `contacts`.`id` = `aspect_memberships`.`contact_id` \n",
    "WHERE `aspect_memberships`.`aspect_id` = 3;\n",
    "\"\"\"\n",
    "\n",
    "format3 = \"\"\"\n",
    "```sql\n",
    "SELECT COUNT(*) FROM contacts INNER JOIN aspect_memberships ON contacts.id = aspect_memberships.contact_id WHERE aspect_memberships.aspect_id = 3;\n",
    "```\n",
    "\"\"\"\n",
    "format4 = \"\"\"\n",
    "```sql\n",
    "SELECT COUNT(*) \n",
    "FROM `contacts` \n",
    "INNER JOIN `aspect_memberships` ON `contacts`.`id` = `aspect_memberships`.`contact_id` \n",
    "WHERE `aspect_memberships`.`aspect_id` = 3;\n",
    "```\n",
    "\"\"\"\n",
    "format5 = \"\"\"\n",
    "**Modified version:** \n",
    "SELECT COUNT(*) FROM `contacts` INNER JOIN `aspect_memberships` ON `contacts`.`id` = `aspect_memberships`.`contact_id` WHERE `aspect_memberships`.`aspect_id` = 3;\n",
    "\"\"\"\n",
    "\n",
    "print(\"format 1\", extract_modified_version(format1))\n",
    "print(\"format 2\", extract_modified_version(format2))\n",
    "print(\"format 3\", extract_modified_version(format3))\n",
    "print(\"format 4\", extract_modified_version(format4))\n",
    "print(\"format 5\", extract_modified_version(format5))"
   ]
  }
 ],
 "metadata": {
  "kernelspec": {
   "display_name": "openai",
   "language": "python",
   "name": "python3"
  },
  "language_info": {
   "codemirror_mode": {
    "name": "ipython",
    "version": 3
   },
   "file_extension": ".py",
   "mimetype": "text/x-python",
   "name": "python",
   "nbconvert_exporter": "python",
   "pygments_lexer": "ipython3",
   "version": "3.12.4"
  }
 },
 "nbformat": 4,
 "nbformat_minor": 2
}
